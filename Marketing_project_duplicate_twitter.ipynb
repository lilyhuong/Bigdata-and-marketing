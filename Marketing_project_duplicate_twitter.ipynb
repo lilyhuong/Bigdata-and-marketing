{
 "cells": [
  {
   "cell_type": "markdown",
   "metadata": {},
   "source": [
    "<br>\n",
    "\n",
    "<b><font size=22> Big data and Marketing </font></b>\n",
    "\n",
    "**<font color = red>NGUYEN Thi Huong</font>**\n",
    "\n",
    "**<font color = red>GNABA Ange - Michel</font>**\n",
    "\n",
    "**<font color = salmon>MASTER 2 EBDS</font>**\n"
   ]
  },
  {
   "cell_type": "code",
   "execution_count": 121,
   "metadata": {},
   "outputs": [
    {
     "name": "stderr",
     "output_type": "stream",
     "text": [
      "/var/folders/q2/tks8t2v53c95y3jqch98mqrc0000gn/T/ipykernel_1967/4072118773.py:14: FutureWarning: The demoji.download_codes attribute is deprecated and will be removed from demoji in a future version. It is an unused attribute as emoji codes are now distributed directly with the demoji package.\n",
      "  demoji.download_codes() #downloading emojis\n"
     ]
    }
   ],
   "source": [
    "import numpy as np\n",
    "import pandas as pd\n",
    "import nltk\n",
    "from nltk.corpus import stopwords\n",
    "import matplotlib.pyplot as plt\n",
    "import seaborn as sns\n",
    "from nltk.stem import WordNetLemmatizer # preserves the root of words so that two words with the same stem will be considered as one and the same word\n",
    "from nltk.stem.snowball import SnowballStemmer\n",
    "import emoji #to clean emojis\n",
    "import demoji #to clean emojis\n",
    "import pickle #to save serialized data\n",
    "from sklearn.decomposition import PCA #PCA\n",
    "from sklearn.cluster import KMeans, DBSCAN #clustering methods\n",
    "demoji.download_codes() #downloading emojis\n",
    "import re"
   ]
  },
  {
   "cell_type": "markdown",
   "metadata": {},
   "source": [
    "TweetsCOV19 is a semantically annotated corpus of Tweets about the COVID-19 pandemic"
   ]
  },
  {
   "cell_type": "code",
   "execution_count": 122,
   "metadata": {},
   "outputs": [],
   "source": [
    "from bs4 import BeautifulSoup #to remove web characters"
   ]
  },
  {
   "cell_type": "code",
   "execution_count": 123,
   "metadata": {},
   "outputs": [],
   "source": [
    "from tqdm.notebook import tqdm #progress bar"
   ]
  },
  {
   "cell_type": "code",
   "execution_count": 124,
   "metadata": {},
   "outputs": [],
   "source": [
    "link_file = \"https://raw.githubusercontent.com/lilyhuong/Bigdata-and-marketing/e270465ec5686145b9f0f5f6b67e535e649ac72a/data.csv?token=GHSAT0AAAAAAB23GAORQE4WNWOEKWS66FEMY3UD2QQ\"\n",
    "df = pd.read_csv(link_file, index_col= 0)"
   ]
  },
  {
   "cell_type": "code",
   "execution_count": 125,
   "metadata": {},
   "outputs": [
    {
     "data": {
      "text/html": [
       "<div>\n",
       "<style scoped>\n",
       "    .dataframe tbody tr th:only-of-type {\n",
       "        vertical-align: middle;\n",
       "    }\n",
       "\n",
       "    .dataframe tbody tr th {\n",
       "        vertical-align: top;\n",
       "    }\n",
       "\n",
       "    .dataframe thead th {\n",
       "        text-align: right;\n",
       "    }\n",
       "</style>\n",
       "<table border=\"1\" class=\"dataframe\">\n",
       "  <thead>\n",
       "    <tr style=\"text-align: right;\">\n",
       "      <th></th>\n",
       "      <th>user_name</th>\n",
       "      <th>user_location</th>\n",
       "      <th>user_description</th>\n",
       "      <th>user_created</th>\n",
       "      <th>user_followers</th>\n",
       "      <th>user_friends</th>\n",
       "      <th>user_favourites</th>\n",
       "      <th>user_verified</th>\n",
       "      <th>date</th>\n",
       "      <th>text</th>\n",
       "      <th>hashtags</th>\n",
       "      <th>source</th>\n",
       "      <th>is_retweet</th>\n",
       "    </tr>\n",
       "  </thead>\n",
       "  <tbody>\n",
       "    <tr>\n",
       "      <th>50143</th>\n",
       "      <td>GoodMorningWilton</td>\n",
       "      <td>Wilton, CT 06897</td>\n",
       "      <td>#WiltonCT's go-to news source. Daily, GOOD new...</td>\n",
       "      <td>2013-04-03 19:13:57</td>\n",
       "      <td>1234</td>\n",
       "      <td>451</td>\n",
       "      <td>765</td>\n",
       "      <td>False</td>\n",
       "      <td>2020-07-31 17:34:35</td>\n",
       "      <td>Analyzing School Reopening Details, Wilton BOE...</td>\n",
       "      <td>NaN</td>\n",
       "      <td>TweetDeck</td>\n",
       "      <td>False</td>\n",
       "    </tr>\n",
       "    <tr>\n",
       "      <th>52558</th>\n",
       "      <td>Mitchel Bell</td>\n",
       "      <td>Washington DC Metro</td>\n",
       "      <td>Uber sales guy - Hunter - Focus is on sales pe...</td>\n",
       "      <td>2010-02-20 19:28:20</td>\n",
       "      <td>83</td>\n",
       "      <td>92</td>\n",
       "      <td>7</td>\n",
       "      <td>False</td>\n",
       "      <td>2020-08-01 19:00:19</td>\n",
       "      <td>NICE Satmetrix Benchmark finds 57% of contact ...</td>\n",
       "      <td>NaN</td>\n",
       "      <td>Oktopost</td>\n",
       "      <td>False</td>\n",
       "    </tr>\n",
       "    <tr>\n",
       "      <th>3866</th>\n",
       "      <td>PIB India</td>\n",
       "      <td>New Delhi</td>\n",
       "      <td>Press Information Bureau. Nodal agency for com...</td>\n",
       "      <td>2010-12-27 11:55:36</td>\n",
       "      <td>2063891</td>\n",
       "      <td>265</td>\n",
       "      <td>2149</td>\n",
       "      <td>True</td>\n",
       "      <td>2020-07-25 10:05:16</td>\n",
       "      <td>#CoronaWatch\\n\\n◾ 13,36,861 total confirmed ca...</td>\n",
       "      <td>['CoronaWatch']</td>\n",
       "      <td>Twitter Web App</td>\n",
       "      <td>False</td>\n",
       "    </tr>\n",
       "    <tr>\n",
       "      <th>67077</th>\n",
       "      <td>Daniel Mumby</td>\n",
       "      <td>Chard</td>\n",
       "      <td>Christian, journalist, film buff, cricket fan ...</td>\n",
       "      <td>2012-07-08 15:15:19</td>\n",
       "      <td>678</td>\n",
       "      <td>981</td>\n",
       "      <td>8961</td>\n",
       "      <td>False</td>\n",
       "      <td>2020-08-04 07:52:32</td>\n",
       "      <td>\"XR f***s up so often because we became way to...</td>\n",
       "      <td>NaN</td>\n",
       "      <td>Twitter for Android</td>\n",
       "      <td>False</td>\n",
       "    </tr>\n",
       "    <tr>\n",
       "      <th>153918</th>\n",
       "      <td>Jimmy Kokinakes</td>\n",
       "      <td>Kankakee, IL</td>\n",
       "      <td>There are no small audiences, only small comic...</td>\n",
       "      <td>2014-05-31 18:52:32</td>\n",
       "      <td>1112</td>\n",
       "      <td>2081</td>\n",
       "      <td>8843</td>\n",
       "      <td>False</td>\n",
       "      <td>2020-08-18 16:17:44</td>\n",
       "      <td>@realDonaldTrump America's most DISGRUNTLED EM...</td>\n",
       "      <td>['COVID19']</td>\n",
       "      <td>Twitter Web App</td>\n",
       "      <td>False</td>\n",
       "    </tr>\n",
       "    <tr>\n",
       "      <th>...</th>\n",
       "      <td>...</td>\n",
       "      <td>...</td>\n",
       "      <td>...</td>\n",
       "      <td>...</td>\n",
       "      <td>...</td>\n",
       "      <td>...</td>\n",
       "      <td>...</td>\n",
       "      <td>...</td>\n",
       "      <td>...</td>\n",
       "      <td>...</td>\n",
       "      <td>...</td>\n",
       "      <td>...</td>\n",
       "      <td>...</td>\n",
       "    </tr>\n",
       "    <tr>\n",
       "      <th>114102</th>\n",
       "      <td>Dan Male</td>\n",
       "      <td>London, England</td>\n",
       "      <td>Editor of @ICJnews, @TalentJournal and @WMJnew...</td>\n",
       "      <td>2016-07-17 14:10:57</td>\n",
       "      <td>164</td>\n",
       "      <td>484</td>\n",
       "      <td>1276</td>\n",
       "      <td>False</td>\n",
       "      <td>2020-08-12 07:31:15</td>\n",
       "      <td>Karamjit is absolutely right to talk about the...</td>\n",
       "      <td>['NHS']</td>\n",
       "      <td>Twitter for iPhone</td>\n",
       "      <td>False</td>\n",
       "    </tr>\n",
       "    <tr>\n",
       "      <th>67848</th>\n",
       "      <td>The New Indian Express</td>\n",
       "      <td>Chennai</td>\n",
       "      <td>All the tweets for breaking news &amp; views.\\nFac...</td>\n",
       "      <td>2009-12-05 09:24:55</td>\n",
       "      <td>446499</td>\n",
       "      <td>552</td>\n",
       "      <td>540</td>\n",
       "      <td>True</td>\n",
       "      <td>2020-08-04 07:28:56</td>\n",
       "      <td>UN chief says over one billion students are af...</td>\n",
       "      <td>['COVID19']</td>\n",
       "      <td>Twitter Web App</td>\n",
       "      <td>False</td>\n",
       "    </tr>\n",
       "    <tr>\n",
       "      <th>142615</th>\n",
       "      <td>Diamond Q</td>\n",
       "      <td>Oklahoma City, OK</td>\n",
       "      <td>👀  follow or you gay</td>\n",
       "      <td>2020-06-21 01:56:52</td>\n",
       "      <td>18</td>\n",
       "      <td>15</td>\n",
       "      <td>29</td>\n",
       "      <td>False</td>\n",
       "      <td>2020-08-17 06:59:50</td>\n",
       "      <td>Follow or you gay 👀 #DarceyAndStacey #PValley ...</td>\n",
       "      <td>['DarceyAndStacey', 'PValley', '90DayFianceHap...</td>\n",
       "      <td>Twitter for iPhone</td>\n",
       "      <td>False</td>\n",
       "    </tr>\n",
       "    <tr>\n",
       "      <th>61053</th>\n",
       "      <td>Richard herlihy</td>\n",
       "      <td>NaN</td>\n",
       "      <td>NaN</td>\n",
       "      <td>2013-05-04 20:35:52</td>\n",
       "      <td>86</td>\n",
       "      <td>392</td>\n",
       "      <td>177</td>\n",
       "      <td>False</td>\n",
       "      <td>2020-08-02 20:36:26</td>\n",
       "      <td>@L5Roby @ChristianDMZ @andifasano @meliswein @...</td>\n",
       "      <td>['Mets']</td>\n",
       "      <td>Twitter for iPhone</td>\n",
       "      <td>False</td>\n",
       "    </tr>\n",
       "    <tr>\n",
       "      <th>68630</th>\n",
       "      <td>Jenn_Vega1</td>\n",
       "      <td>Ventura County</td>\n",
       "      <td>This is ME!•DallasCowboys🏈•Latina🇲🇽🇺🇸•Starbuck...</td>\n",
       "      <td>2009-03-25 03:02:08</td>\n",
       "      <td>143</td>\n",
       "      <td>270</td>\n",
       "      <td>280</td>\n",
       "      <td>False</td>\n",
       "      <td>2020-08-04 07:05:22</td>\n",
       "      <td>This is horrible! #StayHomeSavesLives #WearADa...</td>\n",
       "      <td>['StayHomeSavesLives', 'WearADamnMask', 'Socia...</td>\n",
       "      <td>Twitter for iPhone</td>\n",
       "      <td>False</td>\n",
       "    </tr>\n",
       "  </tbody>\n",
       "</table>\n",
       "<p>5373 rows × 13 columns</p>\n",
       "</div>"
      ],
      "text/plain": [
       "                     user_name        user_location  \\\n",
       "50143        GoodMorningWilton     Wilton, CT 06897   \n",
       "52558             Mitchel Bell  Washington DC Metro   \n",
       "3866                 PIB India            New Delhi   \n",
       "67077             Daniel Mumby                Chard   \n",
       "153918         Jimmy Kokinakes         Kankakee, IL   \n",
       "...                        ...                  ...   \n",
       "114102                Dan Male      London, England   \n",
       "67848   The New Indian Express              Chennai   \n",
       "142615               Diamond Q    Oklahoma City, OK   \n",
       "61053          Richard herlihy                  NaN   \n",
       "68630               Jenn_Vega1       Ventura County   \n",
       "\n",
       "                                         user_description  \\\n",
       "50143   #WiltonCT's go-to news source. Daily, GOOD new...   \n",
       "52558   Uber sales guy - Hunter - Focus is on sales pe...   \n",
       "3866    Press Information Bureau. Nodal agency for com...   \n",
       "67077   Christian, journalist, film buff, cricket fan ...   \n",
       "153918  There are no small audiences, only small comic...   \n",
       "...                                                   ...   \n",
       "114102  Editor of @ICJnews, @TalentJournal and @WMJnew...   \n",
       "67848   All the tweets for breaking news & views.\\nFac...   \n",
       "142615                               👀  follow or you gay   \n",
       "61053                                                 NaN   \n",
       "68630   This is ME!•DallasCowboys🏈•Latina🇲🇽🇺🇸•Starbuck...   \n",
       "\n",
       "               user_created  user_followers  user_friends  user_favourites  \\\n",
       "50143   2013-04-03 19:13:57            1234           451              765   \n",
       "52558   2010-02-20 19:28:20              83            92                7   \n",
       "3866    2010-12-27 11:55:36         2063891           265             2149   \n",
       "67077   2012-07-08 15:15:19             678           981             8961   \n",
       "153918  2014-05-31 18:52:32            1112          2081             8843   \n",
       "...                     ...             ...           ...              ...   \n",
       "114102  2016-07-17 14:10:57             164           484             1276   \n",
       "67848   2009-12-05 09:24:55          446499           552              540   \n",
       "142615  2020-06-21 01:56:52              18            15               29   \n",
       "61053   2013-05-04 20:35:52              86           392              177   \n",
       "68630   2009-03-25 03:02:08             143           270              280   \n",
       "\n",
       "        user_verified                 date  \\\n",
       "50143           False  2020-07-31 17:34:35   \n",
       "52558           False  2020-08-01 19:00:19   \n",
       "3866             True  2020-07-25 10:05:16   \n",
       "67077           False  2020-08-04 07:52:32   \n",
       "153918          False  2020-08-18 16:17:44   \n",
       "...               ...                  ...   \n",
       "114102          False  2020-08-12 07:31:15   \n",
       "67848            True  2020-08-04 07:28:56   \n",
       "142615          False  2020-08-17 06:59:50   \n",
       "61053           False  2020-08-02 20:36:26   \n",
       "68630           False  2020-08-04 07:05:22   \n",
       "\n",
       "                                                     text  \\\n",
       "50143   Analyzing School Reopening Details, Wilton BOE...   \n",
       "52558   NICE Satmetrix Benchmark finds 57% of contact ...   \n",
       "3866    #CoronaWatch\\n\\n◾ 13,36,861 total confirmed ca...   \n",
       "67077   \"XR f***s up so often because we became way to...   \n",
       "153918  @realDonaldTrump America's most DISGRUNTLED EM...   \n",
       "...                                                   ...   \n",
       "114102  Karamjit is absolutely right to talk about the...   \n",
       "67848   UN chief says over one billion students are af...   \n",
       "142615  Follow or you gay 👀 #DarceyAndStacey #PValley ...   \n",
       "61053   @L5Roby @ChristianDMZ @andifasano @meliswein @...   \n",
       "68630   This is horrible! #StayHomeSavesLives #WearADa...   \n",
       "\n",
       "                                                 hashtags  \\\n",
       "50143                                                 NaN   \n",
       "52558                                                 NaN   \n",
       "3866                                      ['CoronaWatch']   \n",
       "67077                                                 NaN   \n",
       "153918                                        ['COVID19']   \n",
       "...                                                   ...   \n",
       "114102                                            ['NHS']   \n",
       "67848                                         ['COVID19']   \n",
       "142615  ['DarceyAndStacey', 'PValley', '90DayFianceHap...   \n",
       "61053                                            ['Mets']   \n",
       "68630   ['StayHomeSavesLives', 'WearADamnMask', 'Socia...   \n",
       "\n",
       "                     source  is_retweet  \n",
       "50143             TweetDeck       False  \n",
       "52558              Oktopost       False  \n",
       "3866        Twitter Web App       False  \n",
       "67077   Twitter for Android       False  \n",
       "153918      Twitter Web App       False  \n",
       "...                     ...         ...  \n",
       "114102   Twitter for iPhone       False  \n",
       "67848       Twitter Web App       False  \n",
       "142615   Twitter for iPhone       False  \n",
       "61053    Twitter for iPhone       False  \n",
       "68630    Twitter for iPhone       False  \n",
       "\n",
       "[5373 rows x 13 columns]"
      ]
     },
     "execution_count": 125,
     "metadata": {},
     "output_type": "execute_result"
    }
   ],
   "source": [
    "df"
   ]
  },
  {
   "cell_type": "code",
   "execution_count": 126,
   "metadata": {},
   "outputs": [],
   "source": [
    "#df = df.sample(frac=0.03 , random_state = 123)"
   ]
  },
  {
   "cell_type": "code",
   "execution_count": 127,
   "metadata": {},
   "outputs": [],
   "source": [
    "df = df[['user_name', \"text\", \"hashtags\", \"is_retweet\"]]"
   ]
  },
  {
   "cell_type": "code",
   "execution_count": 128,
   "metadata": {},
   "outputs": [
    {
     "data": {
      "text/plain": [
       "user_name     object\n",
       "text          object\n",
       "hashtags      object\n",
       "is_retweet      bool\n",
       "dtype: object"
      ]
     },
     "execution_count": 128,
     "metadata": {},
     "output_type": "execute_result"
    }
   ],
   "source": [
    "df.dtypes"
   ]
  },
  {
   "cell_type": "markdown",
   "metadata": {},
   "source": [
    "## Exploratory Data Analysis"
   ]
  },
  {
   "cell_type": "code",
   "execution_count": 129,
   "metadata": {},
   "outputs": [
    {
     "name": "stderr",
     "output_type": "stream",
     "text": [
      "/var/folders/q2/tks8t2v53c95y3jqch98mqrc0000gn/T/ipykernel_1967/1356646241.py:1: SettingWithCopyWarning: \n",
      "A value is trying to be set on a copy of a slice from a DataFrame\n",
      "\n",
      "See the caveats in the documentation: https://pandas.pydata.org/pandas-docs/stable/user_guide/indexing.html#returning-a-view-versus-a-copy\n",
      "  df.drop_duplicates(subset='text',inplace=True)\n"
     ]
    }
   ],
   "source": [
    "df.drop_duplicates(subset='text',inplace=True)"
   ]
  },
  {
   "cell_type": "markdown",
   "metadata": {},
   "source": [
    "From this step, we haad remove 425 duplicate tweet that duplicate "
   ]
  },
  {
   "cell_type": "code",
   "execution_count": 130,
   "metadata": {},
   "outputs": [
    {
     "data": {
      "text/plain": [
       "(5373, 4)"
      ]
     },
     "execution_count": 130,
     "metadata": {},
     "output_type": "execute_result"
    }
   ],
   "source": [
    "df.shape"
   ]
  },
  {
   "cell_type": "code",
   "execution_count": 131,
   "metadata": {},
   "outputs": [
    {
     "data": {
      "text/html": [
       "<div>\n",
       "<style scoped>\n",
       "    .dataframe tbody tr th:only-of-type {\n",
       "        vertical-align: middle;\n",
       "    }\n",
       "\n",
       "    .dataframe tbody tr th {\n",
       "        vertical-align: top;\n",
       "    }\n",
       "\n",
       "    .dataframe thead th {\n",
       "        text-align: right;\n",
       "    }\n",
       "</style>\n",
       "<table border=\"1\" class=\"dataframe\">\n",
       "  <thead>\n",
       "    <tr style=\"text-align: right;\">\n",
       "      <th></th>\n",
       "      <th>user_name</th>\n",
       "      <th>text</th>\n",
       "      <th>hashtags</th>\n",
       "      <th>is_retweet</th>\n",
       "    </tr>\n",
       "  </thead>\n",
       "  <tbody>\n",
       "    <tr>\n",
       "      <th>count</th>\n",
       "      <td>5373</td>\n",
       "      <td>5373</td>\n",
       "      <td>3806</td>\n",
       "      <td>5373</td>\n",
       "    </tr>\n",
       "    <tr>\n",
       "      <th>unique</th>\n",
       "      <td>4782</td>\n",
       "      <td>5373</td>\n",
       "      <td>2169</td>\n",
       "      <td>1</td>\n",
       "    </tr>\n",
       "    <tr>\n",
       "      <th>top</th>\n",
       "      <td>GlobalPandemic.NET</td>\n",
       "      <td>Analyzing School Reopening Details, Wilton BOE...</td>\n",
       "      <td>['COVID19']</td>\n",
       "      <td>False</td>\n",
       "    </tr>\n",
       "    <tr>\n",
       "      <th>freq</th>\n",
       "      <td>21</td>\n",
       "      <td>1</td>\n",
       "      <td>1132</td>\n",
       "      <td>5373</td>\n",
       "    </tr>\n",
       "  </tbody>\n",
       "</table>\n",
       "</div>"
      ],
      "text/plain": [
       "                 user_name                                               text  \\\n",
       "count                 5373                                               5373   \n",
       "unique                4782                                               5373   \n",
       "top     GlobalPandemic.NET  Analyzing School Reopening Details, Wilton BOE...   \n",
       "freq                    21                                                  1   \n",
       "\n",
       "           hashtags is_retweet  \n",
       "count          3806       5373  \n",
       "unique         2169          1  \n",
       "top     ['COVID19']      False  \n",
       "freq           1132       5373  "
      ]
     },
     "execution_count": 131,
     "metadata": {},
     "output_type": "execute_result"
    }
   ],
   "source": [
    "df.describe()"
   ]
  },
  {
   "cell_type": "code",
   "execution_count": 132,
   "metadata": {},
   "outputs": [
    {
     "data": {
      "text/plain": [
       "<AxesSubplot:xlabel='is_retweet', ylabel='count'>"
      ]
     },
     "execution_count": 132,
     "metadata": {},
     "output_type": "execute_result"
    },
    {
     "data": {
      "image/png": "[encoded data removed]",
      "text/plain": [
       "<Figure size 432x288 with 1 Axes>"
      ]
     },
     "metadata": {
      "needs_background": "light"
     },
     "output_type": "display_data"
    }
   ],
   "source": [
    "sns.countplot(x = 'is_retweet', data = df)"
   ]
  },
  {
   "cell_type": "markdown",
   "metadata": {},
   "source": [
    "### Count number of current word in a tweet "
   ]
  },
  {
   "cell_type": "code",
   "execution_count": 133,
   "metadata": {},
   "outputs": [
    {
     "name": "stderr",
     "output_type": "stream",
     "text": [
      "/opt/anaconda3/lib/python3.9/site-packages/seaborn/_decorators.py:36: FutureWarning: Pass the following variable as a keyword arg: x. From version 0.12, the only valid positional argument will be `data`, and passing other arguments without an explicit keyword will result in an error or misinterpretation.\n",
      "  warnings.warn(\n"
     ]
    },
    {
     "data": {
      "image/png": "[encoded data removed]",
      "text/plain": [
       "<Figure size 864x288 with 2 Axes>"
      ]
     },
     "metadata": {
      "needs_background": "light"
     },
     "output_type": "display_data"
    }
   ],
   "source": [
    "plt.figure(figsize=(12,4))\n",
    "plt.subplot(1,2,1)\n",
    "sns.kdeplot(df['text'].str.count(' ') + 1,color='r',shade=True)\n",
    "plt.subplot(1,2,2)\n",
    "sns.boxplot(df['text'].str.count(' ') + 1)\n",
    "plt.show()"
   ]
  },
  {
   "cell_type": "code",
   "execution_count": 134,
   "metadata": {},
   "outputs": [
    {
     "data": {
      "text/plain": [
       "17.415038153731622"
      ]
     },
     "execution_count": 134,
     "metadata": {},
     "output_type": "execute_result"
    }
   ],
   "source": [
    "(df['text'].str.count(' ') + 1).mean()"
   ]
  },
  {
   "cell_type": "code",
   "execution_count": 135,
   "metadata": {},
   "outputs": [],
   "source": [
    "# nltk.download('stopwords')\n",
    "# nltk.download('punkt') # tokenizer divides a text into a list of sentences by using an unsupervised algorithm \n",
    "#                         #to build a model for abbreviation words, collocations, and words that start sentences\n",
    "# nltk.download('words') # word from an english dictionnary \n",
    "# nltk.download('wordnet')   #another NLTK corpus reader"
   ]
  },
  {
   "cell_type": "markdown",
   "metadata": {},
   "source": [
    "* transform tweet text into lowercase\n",
    "* remove twitter handles (remove the user name)\n",
    "* remove hyperlinks\n",
    "* remove whitespace\n",
    "* remove emoij"
   ]
  },
  {
   "cell_type": "markdown",
   "metadata": {},
   "source": [
    "Start from removing the stopwords — auxiliary words that can be ignored\n",
    "\n",
    "list of stopwords together with a couple of works such as retweet (‘rt’)"
   ]
  },
  {
   "cell_type": "code",
   "execution_count": 136,
   "metadata": {},
   "outputs": [],
   "source": [
    "# additional  = ['rt','rts','retweet']\n",
    "# swords = set().union(stopwords.words('english'),additional)\n",
    "# lemmatizer = WordNetLemmatizer()  \n",
    "# stemmer = SnowballStemmer(\"english\")  # transform knowing to know, ed to none"
   ]
  },
  {
   "cell_type": "code",
   "execution_count": 137,
   "metadata": {},
   "outputs": [],
   "source": [
    "# df['processed_text'] = df['text'].str.lower()\\\n",
    "#           .str.replace('(@[a-z0-9]+)\\w+',' ')\\\n",
    "#           .str.replace('(http\\S+)', ' ')\\\n",
    "#           .str.replace('(#\\w+)', ' ')\\\n",
    "#           .str.replace(\"[“”·【】《》（）©£°¥«º»¿¤*~=%&€•@#…“”·、；！？【】《》（）©£¥«º»¿ðð¤_●–«» — — ´ ▽ ∀ ˊᗜ  ω  ▄ 〓█ ● ▂ █ ◥⊙ ▲ ⊙◤ ❶ ❷ ◍ ゜~ ← ▼ ω ♪ → ・｀ ღˇᴗˇ♡ ﾟ ]\", \" \")"
   ]
  },
  {
   "cell_type": "code",
   "execution_count": 138,
   "metadata": {},
   "outputs": [],
   "source": [
    "def remove_weblinks(text):\n",
    "    text = re.sub(r\"((https?:\\/\\/)|(www\\.))(www\\.)?[-a-zA-Z0-9@:%._\\+~#=]{1,256}\\.[a-zA-Z0-9()]{1,6}\\b([-a-zA-Z0-9()@:%_\\+.~#?&//=]*)\", \" \", text)\n",
    "    text = re.sub(r\"/forum/\\S+\",\" \", text)\n",
    "    return text.strip()\n",
    "\n",
    "def remove_mentions(text):\n",
    "    text = re.sub(\"(\\S+)?@\\S+\", ' ', text)\n",
    "    text = re.sub(r\"^.+@\", \" \", text)\n",
    "    return text.strip()\n",
    "\n",
    "def replace_empty(text):\n",
    "    if text == '' or str(text) == 'nan':\n",
    "        return \"nan\"\n",
    "    if re.match(\"\\s+$\", text):\n",
    "        return \"nan\"\n",
    "    return text\n",
    "\n",
    "def remove_hashtags(text):\n",
    "    text = re.sub('(#\\w+)', '', text)\n",
    "    return text.strip()\n",
    "\n",
    "# Applying Beautiful Soup (bs4) package to remove web characters (html) + remove emojis\n",
    "def get_emoji_regexp():\n",
    "    # Sort emoji by length to make sure multi-character emojis are\n",
    "    # matched first\n",
    "    emojis = sorted(emoji.EMOJI_DATA, key=len, reverse=True)\n",
    "    pattern = u'(' + u'|'.join(re.escape(u) for u in emojis) + u')'\n",
    "    return re.compile(pattern)\n",
    "\n",
    "def remove_emoji(text):\n",
    "    import warnings\n",
    "    warnings.filterwarnings(\"ignore\", category=UserWarning, module='bs4')\n",
    "    cln_text = BeautifulSoup(text, 'lxml').get_text() # remove web characters\n",
    "    cln_text = demoji.replace(cln_text, \" \")\n",
    "    emoji_pattern = re.compile(\"[\"\n",
    "                       u\"\\U0001F600-\\U0001F64F\"  # emoticons\n",
    "                       u\"\\U0001F300-\\U0001F5FF\"  # symbols & pictographs\n",
    "                       u\"\\U0001F680-\\U0001F6FF\"  # transport & map symbols\n",
    "                       u\"\\U0001F1E0-\\U0001F1FF\"  # flags (iOS)\n",
    "                       \"]+\", flags=re.UNICODE)\n",
    "\n",
    "    cln_noemo = emoji_pattern.sub(r' ', cln_text)\n",
    "    regex = get_emoji_regexp()\n",
    "    cln_post = regex.sub(\" \", cln_noemo)\n",
    "    return (cln_post)\n",
    "\n",
    "# Main function with preprocessing - please keep your eye on order of functions\n",
    "def preprocess(text):\n",
    "    text = str(text)\n",
    "    text = remove_weblinks(text)\n",
    "    text = remove_mentions(text)\n",
    "    text = remove_hashtags(text)\n",
    "    text = remove_emoji(text)\n",
    "    text = replace_empty(text)\n",
    "    text = re.sub(\"\\s+\",\" \", text)\n",
    "    text = re.sub(\"’\", \"'\", text)\n",
    "    text = re.sub(\"[“”·【】《》（）©£°¥«º»¿¤*~=%&€•@#…“”·、；！？【】《》（）©£¥«º»¿ðð¤_●–«» — — ´ ▽ ∀ ˊᗜ  ω  ▄ 〓█ ● ▂ █ ◥⊙ ▲ ⊙◤ ❶ ❷ ◍ ゜~ ← ▼ ω ♪ → ・｀ ღˇᴗˇ♡ ﾟ ]\",\" \",text)\n",
    "    text = re.sub(r\"(\\bRT\\b)\",\" \",text, flags = re.IGNORECASE|re.MULTILINE)\n",
    "    text = re.sub(r\"(\\brt\\b)\",\" \",text, flags = re.IGNORECASE|re.MULTILINE)\n",
    "    text = re.sub(r\"(\\bretweet\\b)\",\" \",text, flags = re.IGNORECASE|re.MULTILINE)\n",
    "    text = re.sub(\"[-\\/\\(\\)\\\\\\[\\]\\|]\", \" \", text, flags = re.IGNORECASE|re.MULTILINE)\n",
    "    text = re.sub(r\"^\\W+\", \"\", text)\n",
    "    text = re.sub(r\"(^\\W+)?(^from: \\w+ on \\w+)?\",'',text,flags = re.IGNORECASE|re.MULTILINE)\n",
    "    text = re.sub(\"\\s+\", \" \", text)\n",
    "    text = re.sub(\"⠀\",\" \", text)\n",
    "    text = re.sub(r\"^\\W+\", \"\", text)\n",
    "    text = re.sub(r\"\\s+\",\" \", text)\n",
    "    return text.strip()"
   ]
  },
  {
   "cell_type": "code",
   "execution_count": 139,
   "metadata": {},
   "outputs": [],
   "source": [
    "tqdm.pandas()"
   ]
  },
  {
   "cell_type": "code",
   "execution_count": 140,
   "metadata": {},
   "outputs": [
    {
     "data": {
      "application/vnd.jupyter.widget-view+json": {
       "model_id": "ba18cc50a0b84e21b55d6f607875ecb0",
       "version_major": 2,
       "version_minor": 0
      },
      "text/plain": [
       "  0%|          | 0/5373 [00:00<?, ?it/s]"
      ]
     },
     "metadata": {},
     "output_type": "display_data"
    },
    {
     "name": "stderr",
     "output_type": "stream",
     "text": [
      "/var/folders/q2/tks8t2v53c95y3jqch98mqrc0000gn/T/ipykernel_1967/183880227.py:1: SettingWithCopyWarning: \n",
      "A value is trying to be set on a copy of a slice from a DataFrame.\n",
      "Try using .loc[row_indexer,col_indexer] = value instead\n",
      "\n",
      "See the caveats in the documentation: https://pandas.pydata.org/pandas-docs/stable/user_guide/indexing.html#returning-a-view-versus-a-copy\n",
      "  df['processed_text'] = df['text'].progress_apply(preprocess)\n"
     ]
    }
   ],
   "source": [
    "df['processed_text'] = df['text'].progress_apply(preprocess)"
   ]
  },
  {
   "cell_type": "code",
   "execution_count": 142,
   "metadata": {},
   "outputs": [
    {
     "data": {
      "text/html": [
       "<div>\n",
       "<style scoped>\n",
       "    .dataframe tbody tr th:only-of-type {\n",
       "        vertical-align: middle;\n",
       "    }\n",
       "\n",
       "    .dataframe tbody tr th {\n",
       "        vertical-align: top;\n",
       "    }\n",
       "\n",
       "    .dataframe thead th {\n",
       "        text-align: right;\n",
       "    }\n",
       "</style>\n",
       "<table border=\"1\" class=\"dataframe\">\n",
       "  <thead>\n",
       "    <tr style=\"text-align: right;\">\n",
       "      <th></th>\n",
       "      <th>user_name</th>\n",
       "      <th>text</th>\n",
       "      <th>hashtags</th>\n",
       "      <th>is_retweet</th>\n",
       "      <th>processed_text</th>\n",
       "    </tr>\n",
       "  </thead>\n",
       "  <tbody>\n",
       "    <tr>\n",
       "      <th>50143</th>\n",
       "      <td>GoodMorningWilton</td>\n",
       "      <td>Analyzing School Reopening Details, Wilton BOE...</td>\n",
       "      <td>NaN</td>\n",
       "      <td>False</td>\n",
       "      <td>Analyzing School Reopening Details, Wilton BOE...</td>\n",
       "    </tr>\n",
       "    <tr>\n",
       "      <th>52558</th>\n",
       "      <td>Mitchel Bell</td>\n",
       "      <td>NICE Satmetrix Benchmark finds 57% of contact ...</td>\n",
       "      <td>NaN</td>\n",
       "      <td>False</td>\n",
       "      <td>NICE Satmetrix Benchmark finds 57 of contact c...</td>\n",
       "    </tr>\n",
       "    <tr>\n",
       "      <th>3866</th>\n",
       "      <td>PIB India</td>\n",
       "      <td>#CoronaWatch\\n\\n◾ 13,36,861 total confirmed ca...</td>\n",
       "      <td>['CoronaWatch']</td>\n",
       "      <td>False</td>\n",
       "      <td>13,36,861 total confirmed cases 8,49,432 cases...</td>\n",
       "    </tr>\n",
       "    <tr>\n",
       "      <th>67077</th>\n",
       "      <td>Daniel Mumby</td>\n",
       "      <td>\"XR f***s up so often because we became way to...</td>\n",
       "      <td>NaN</td>\n",
       "      <td>False</td>\n",
       "      <td>XR f s up so often because we became way too b...</td>\n",
       "    </tr>\n",
       "    <tr>\n",
       "      <th>153918</th>\n",
       "      <td>Jimmy Kokinakes</td>\n",
       "      <td>@realDonaldTrump America's most DISGRUNTLED EM...</td>\n",
       "      <td>['COVID19']</td>\n",
       "      <td>False</td>\n",
       "      <td>America's most DISGRUNTLED EMPLOYEE is Donald ...</td>\n",
       "    </tr>\n",
       "    <tr>\n",
       "      <th>...</th>\n",
       "      <td>...</td>\n",
       "      <td>...</td>\n",
       "      <td>...</td>\n",
       "      <td>...</td>\n",
       "      <td>...</td>\n",
       "    </tr>\n",
       "    <tr>\n",
       "      <th>114102</th>\n",
       "      <td>Dan Male</td>\n",
       "      <td>Karamjit is absolutely right to talk about the...</td>\n",
       "      <td>['NHS']</td>\n",
       "      <td>False</td>\n",
       "      <td>Karamjit is absolutely right to talk about the...</td>\n",
       "    </tr>\n",
       "    <tr>\n",
       "      <th>67848</th>\n",
       "      <td>The New Indian Express</td>\n",
       "      <td>UN chief says over one billion students are af...</td>\n",
       "      <td>['COVID19']</td>\n",
       "      <td>False</td>\n",
       "      <td>UN chief says over one billion students are af...</td>\n",
       "    </tr>\n",
       "    <tr>\n",
       "      <th>142615</th>\n",
       "      <td>Diamond Q</td>\n",
       "      <td>Follow or you gay 👀 #DarceyAndStacey #PValley ...</td>\n",
       "      <td>['DarceyAndStacey', 'PValley', '90DayFianceHap...</td>\n",
       "      <td>False</td>\n",
       "      <td>Follow or you gay</td>\n",
       "    </tr>\n",
       "    <tr>\n",
       "      <th>61053</th>\n",
       "      <td>Richard herlihy</td>\n",
       "      <td>@L5Roby @ChristianDMZ @andifasano @meliswein @...</td>\n",
       "      <td>['Mets']</td>\n",
       "      <td>False</td>\n",
       "      <td>BREAKING NEWS GM Brodie Van Wagenen a</td>\n",
       "    </tr>\n",
       "    <tr>\n",
       "      <th>68630</th>\n",
       "      <td>Jenn_Vega1</td>\n",
       "      <td>This is horrible! #StayHomeSavesLives #WearADa...</td>\n",
       "      <td>['StayHomeSavesLives', 'WearADamnMask', 'Socia...</td>\n",
       "      <td>False</td>\n",
       "      <td>This is horrible!</td>\n",
       "    </tr>\n",
       "  </tbody>\n",
       "</table>\n",
       "<p>5373 rows × 5 columns</p>\n",
       "</div>"
      ],
      "text/plain": [
       "                     user_name  \\\n",
       "50143        GoodMorningWilton   \n",
       "52558             Mitchel Bell   \n",
       "3866                 PIB India   \n",
       "67077             Daniel Mumby   \n",
       "153918         Jimmy Kokinakes   \n",
       "...                        ...   \n",
       "114102                Dan Male   \n",
       "67848   The New Indian Express   \n",
       "142615               Diamond Q   \n",
       "61053          Richard herlihy   \n",
       "68630               Jenn_Vega1   \n",
       "\n",
       "                                                     text  \\\n",
       "50143   Analyzing School Reopening Details, Wilton BOE...   \n",
       "52558   NICE Satmetrix Benchmark finds 57% of contact ...   \n",
       "3866    #CoronaWatch\\n\\n◾ 13,36,861 total confirmed ca...   \n",
       "67077   \"XR f***s up so often because we became way to...   \n",
       "153918  @realDonaldTrump America's most DISGRUNTLED EM...   \n",
       "...                                                   ...   \n",
       "114102  Karamjit is absolutely right to talk about the...   \n",
       "67848   UN chief says over one billion students are af...   \n",
       "142615  Follow or you gay 👀 #DarceyAndStacey #PValley ...   \n",
       "61053   @L5Roby @ChristianDMZ @andifasano @meliswein @...   \n",
       "68630   This is horrible! #StayHomeSavesLives #WearADa...   \n",
       "\n",
       "                                                 hashtags  is_retweet  \\\n",
       "50143                                                 NaN       False   \n",
       "52558                                                 NaN       False   \n",
       "3866                                      ['CoronaWatch']       False   \n",
       "67077                                                 NaN       False   \n",
       "153918                                        ['COVID19']       False   \n",
       "...                                                   ...         ...   \n",
       "114102                                            ['NHS']       False   \n",
       "67848                                         ['COVID19']       False   \n",
       "142615  ['DarceyAndStacey', 'PValley', '90DayFianceHap...       False   \n",
       "61053                                            ['Mets']       False   \n",
       "68630   ['StayHomeSavesLives', 'WearADamnMask', 'Socia...       False   \n",
       "\n",
       "                                           processed_text  \n",
       "50143   Analyzing School Reopening Details, Wilton BOE...  \n",
       "52558   NICE Satmetrix Benchmark finds 57 of contact c...  \n",
       "3866    13,36,861 total confirmed cases 8,49,432 cases...  \n",
       "67077   XR f s up so often because we became way too b...  \n",
       "153918  America's most DISGRUNTLED EMPLOYEE is Donald ...  \n",
       "...                                                   ...  \n",
       "114102  Karamjit is absolutely right to talk about the...  \n",
       "67848   UN chief says over one billion students are af...  \n",
       "142615                                  Follow or you gay  \n",
       "61053               BREAKING NEWS GM Brodie Van Wagenen a  \n",
       "68630                                   This is horrible!  \n",
       "\n",
       "[5373 rows x 5 columns]"
      ]
     },
     "execution_count": 142,
     "metadata": {},
     "output_type": "execute_result"
    }
   ],
   "source": [
    "df"
   ]
  },
  {
   "cell_type": "code",
   "execution_count": 18,
   "metadata": {},
   "outputs": [],
   "source": [
    "# def preprocessSentence(sentence):\n",
    "#     sentence_w_punct = \"\".join([i.lower() for i in sentence if i not in string.punctuation])\n",
    "\n",
    "#     sentence_w_num = ''.join(i for i in sentence_w_punct if not i.isdigit())\n",
    "\n",
    "#     tokenize_sentence = nltk.tokenize.word_tokenize(sentence_w_num)\n",
    "\n",
    "#     words_w_stopwords = [i for i in tokenize_sentence if i not in stopwords]\n",
    "\n",
    "#     words_lemmatize = (lemmatizer.lemmatize(w) for w in words_w_stopwords)\n",
    "    \n",
    "#     words_lemmatize = (re.sub(r\"[^a-zA-Z0-9]\",\"\",w) for w in words_lemmatize)\n",
    "\n",
    "#     sentence_clean = ' '.join(w for w in words_lemmatize if w.lower() in words or not w.isalpha())\n",
    "\n",
    "#     return sentence_clean.split()"
   ]
  },
  {
   "cell_type": "code",
   "execution_count": 19,
   "metadata": {},
   "outputs": [],
   "source": [
    "#df[\"preprocess_tweet\"] = df[\"text\"].apply(preprocessSentence)"
   ]
  },
  {
   "cell_type": "markdown",
   "metadata": {},
   "source": [
    "Statistical approaches such as machine learning and deep learning work well with numerical data. However, natural language consists of words and sentences. Therefore, before you can build a sentiment analysis model, you need to convert text to numbers. Several approaches have been developed for converting text to numbers. Bag of Words,"
   ]
  },
  {
   "cell_type": "code",
   "execution_count": 20,
   "metadata": {},
   "outputs": [],
   "source": [
    "words_df = df[\"processed_text\"]"
   ]
  },
  {
   "cell_type": "code",
   "execution_count": 21,
   "metadata": {},
   "outputs": [
    {
     "name": "stderr",
     "output_type": "stream",
     "text": [
      "/var/folders/q2/tks8t2v53c95y3jqch98mqrc0000gn/T/ipykernel_1967/4274843108.py:1: FutureWarning: The default dtype for empty Series will be 'object' instead of 'float64' in a future version. Specify a dtype explicitly to silence this warning.\n",
      "  dfa = pd.get_dummies(words_df.apply(pd.Series).stack()).sum(level=0)\n",
      "/var/folders/q2/tks8t2v53c95y3jqch98mqrc0000gn/T/ipykernel_1967/4274843108.py:1: FutureWarning: Using the level keyword in DataFrame and Series aggregations is deprecated and will be removed in a future version. Use groupby instead. df.sum(level=1) should use df.groupby(level=1).sum().\n",
      "  dfa = pd.get_dummies(words_df.apply(pd.Series).stack()).sum(level=0)\n"
     ]
    },
    {
     "data": {
      "text/html": [
       "<div>\n",
       "<style scoped>\n",
       "    .dataframe tbody tr th:only-of-type {\n",
       "        vertical-align: middle;\n",
       "    }\n",
       "\n",
       "    .dataframe tbody tr th {\n",
       "        vertical-align: top;\n",
       "    }\n",
       "\n",
       "    .dataframe thead th {\n",
       "        text-align: right;\n",
       "    }\n",
       "</style>\n",
       "<table border=\"1\" class=\"dataframe\">\n",
       "  <thead>\n",
       "    <tr style=\"text-align: right;\">\n",
       "      <th></th>\n",
       "      <th>00gmt</th>\n",
       "      <th>00pm</th>\n",
       "      <th>100k</th>\n",
       "      <th>100odd</th>\n",
       "      <th>100x</th>\n",
       "      <th>10am</th>\n",
       "      <th>10b</th>\n",
       "      <th>10death</th>\n",
       "      <th>10th</th>\n",
       "      <th>1173new</th>\n",
       "      <th>...</th>\n",
       "      <th>zone</th>\n",
       "      <th>zoo</th>\n",
       "      <th>zoom</th>\n",
       "      <th>zoonosi</th>\n",
       "      <th>zoonot</th>\n",
       "      <th>zt</th>\n",
       "      <th>zubiri</th>\n",
       "      <th>zupco</th>\n",
       "      <th>zweli</th>\n",
       "      <th>zyada</th>\n",
       "    </tr>\n",
       "  </thead>\n",
       "  <tbody>\n",
       "    <tr>\n",
       "      <th>50143</th>\n",
       "      <td>0</td>\n",
       "      <td>0</td>\n",
       "      <td>0</td>\n",
       "      <td>0</td>\n",
       "      <td>0</td>\n",
       "      <td>0</td>\n",
       "      <td>0</td>\n",
       "      <td>0</td>\n",
       "      <td>0</td>\n",
       "      <td>0</td>\n",
       "      <td>...</td>\n",
       "      <td>0</td>\n",
       "      <td>0</td>\n",
       "      <td>0</td>\n",
       "      <td>0</td>\n",
       "      <td>0</td>\n",
       "      <td>0</td>\n",
       "      <td>0</td>\n",
       "      <td>0</td>\n",
       "      <td>0</td>\n",
       "      <td>0</td>\n",
       "    </tr>\n",
       "    <tr>\n",
       "      <th>52558</th>\n",
       "      <td>0</td>\n",
       "      <td>0</td>\n",
       "      <td>0</td>\n",
       "      <td>0</td>\n",
       "      <td>0</td>\n",
       "      <td>0</td>\n",
       "      <td>0</td>\n",
       "      <td>0</td>\n",
       "      <td>0</td>\n",
       "      <td>0</td>\n",
       "      <td>...</td>\n",
       "      <td>0</td>\n",
       "      <td>0</td>\n",
       "      <td>0</td>\n",
       "      <td>0</td>\n",
       "      <td>0</td>\n",
       "      <td>0</td>\n",
       "      <td>0</td>\n",
       "      <td>0</td>\n",
       "      <td>0</td>\n",
       "      <td>0</td>\n",
       "    </tr>\n",
       "    <tr>\n",
       "      <th>3866</th>\n",
       "      <td>0</td>\n",
       "      <td>0</td>\n",
       "      <td>0</td>\n",
       "      <td>0</td>\n",
       "      <td>0</td>\n",
       "      <td>0</td>\n",
       "      <td>0</td>\n",
       "      <td>0</td>\n",
       "      <td>0</td>\n",
       "      <td>0</td>\n",
       "      <td>...</td>\n",
       "      <td>0</td>\n",
       "      <td>0</td>\n",
       "      <td>0</td>\n",
       "      <td>0</td>\n",
       "      <td>0</td>\n",
       "      <td>0</td>\n",
       "      <td>0</td>\n",
       "      <td>0</td>\n",
       "      <td>0</td>\n",
       "      <td>0</td>\n",
       "    </tr>\n",
       "    <tr>\n",
       "      <th>67077</th>\n",
       "      <td>0</td>\n",
       "      <td>0</td>\n",
       "      <td>0</td>\n",
       "      <td>0</td>\n",
       "      <td>0</td>\n",
       "      <td>0</td>\n",
       "      <td>0</td>\n",
       "      <td>0</td>\n",
       "      <td>0</td>\n",
       "      <td>0</td>\n",
       "      <td>...</td>\n",
       "      <td>0</td>\n",
       "      <td>0</td>\n",
       "      <td>0</td>\n",
       "      <td>0</td>\n",
       "      <td>0</td>\n",
       "      <td>0</td>\n",
       "      <td>0</td>\n",
       "      <td>0</td>\n",
       "      <td>0</td>\n",
       "      <td>0</td>\n",
       "    </tr>\n",
       "    <tr>\n",
       "      <th>153918</th>\n",
       "      <td>0</td>\n",
       "      <td>0</td>\n",
       "      <td>0</td>\n",
       "      <td>0</td>\n",
       "      <td>0</td>\n",
       "      <td>0</td>\n",
       "      <td>0</td>\n",
       "      <td>0</td>\n",
       "      <td>0</td>\n",
       "      <td>0</td>\n",
       "      <td>...</td>\n",
       "      <td>0</td>\n",
       "      <td>0</td>\n",
       "      <td>0</td>\n",
       "      <td>0</td>\n",
       "      <td>0</td>\n",
       "      <td>0</td>\n",
       "      <td>0</td>\n",
       "      <td>0</td>\n",
       "      <td>0</td>\n",
       "      <td>0</td>\n",
       "    </tr>\n",
       "  </tbody>\n",
       "</table>\n",
       "<p>5 rows × 9680 columns</p>\n",
       "</div>"
      ],
      "text/plain": [
       "        00gmt  00pm  100k  100odd  100x  10am  10b  10death  10th  1173new  \\\n",
       "50143       0     0     0       0     0     0    0        0     0        0   \n",
       "52558       0     0     0       0     0     0    0        0     0        0   \n",
       "3866        0     0     0       0     0     0    0        0     0        0   \n",
       "67077       0     0     0       0     0     0    0        0     0        0   \n",
       "153918      0     0     0       0     0     0    0        0     0        0   \n",
       "\n",
       "        ...  zone  zoo  zoom  zoonosi  zoonot  zt  zubiri  zupco  zweli  zyada  \n",
       "50143   ...     0    0     0        0       0   0       0      0      0      0  \n",
       "52558   ...     0    0     0        0       0   0       0      0      0      0  \n",
       "3866    ...     0    0     0        0       0   0       0      0      0      0  \n",
       "67077   ...     0    0     0        0       0   0       0      0      0      0  \n",
       "153918  ...     0    0     0        0       0   0       0      0      0      0  \n",
       "\n",
       "[5 rows x 9680 columns]"
      ]
     },
     "execution_count": 21,
     "metadata": {},
     "output_type": "execute_result"
    }
   ],
   "source": [
    "dfa = pd.get_dummies(words_df.apply(pd.Series).stack()).sum(level=0) \n",
    "dfa.head()"
   ]
  },
  {
   "cell_type": "code",
   "execution_count": 297,
   "metadata": {},
   "outputs": [],
   "source": [
    "# Counting the occurence of each word\n",
    "words_sum = dfa.sum(axis = 0).T\n",
    "words_sum = words_sum.sort_values(ascending = False)"
   ]
  },
  {
   "cell_type": "code",
   "execution_count": 298,
   "metadata": {},
   "outputs": [
    {
     "data": {
      "text/plain": [
       "<AxesSubplot:>"
      ]
     },
     "execution_count": 298,
     "metadata": {},
     "output_type": "execute_result"
    },
    {
     "data": {
      "image/png": "[encoded data removed]",
      "text/plain": [
       "<Figure size 1152x360 with 1 Axes>"
      ]
     },
     "metadata": {
      "needs_background": "light"
     },
     "output_type": "display_data"
    }
   ],
   "source": [
    "# Graph the more used word\n",
    "words_sum_max = words_sum.head(20)\n",
    "\n",
    "plt.figure(figsize=(16,5))\n",
    "words_sum_max.plot.bar(rot=25)"
   ]
  },
  {
   "cell_type": "markdown",
   "metadata": {},
   "source": [
    "hdbs scan, can identifiy outiliers compare to kmeans with soft clustering, with density, kmeans is basily select K \n",
    "\n",
    "approximate \n",
    "stopword only LDA, count number frequence of work "
   ]
  },
  {
   "cell_type": "markdown",
   "metadata": {},
   "source": [
    "## Part 2: BERT-like sentence embeddings"
   ]
  },
  {
   "cell_type": "code",
   "execution_count": null,
   "metadata": {},
   "outputs": [],
   "source": []
  }
 ],
 "metadata": {
  "interpreter": {
   "hash": "40d3a090f54c6569ab1632332b64b2c03c39dcf918b08424e98f38b5ae0af88f"
  },
  "kernelspec": {
   "display_name": "Python 3.9.12 ('base')",
   "language": "python",
   "name": "python3"
  },
  "language_info": {
   "codemirror_mode": {
    "name": "ipython",
    "version": 3
   },
   "file_extension": ".py",
   "mimetype": "text/x-python",
   "name": "python",
   "nbconvert_exporter": "python",
   "pygments_lexer": "ipython3",
   "version": "3.9.12"
  },
  "orig_nbformat": 4
 },
 "nbformat": 4,
 "nbformat_minor": 2
}
