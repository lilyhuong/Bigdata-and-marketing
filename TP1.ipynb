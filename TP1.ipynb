{
 "cells": [
  {
   "cell_type": "markdown",
   "metadata": {},
   "source": [
    "until 9 November to select \n",
    "\n",
    "specify which part of project you done, description of working for each person in group\n",
    "* Report\n",
    " \n",
    "Introduction to a problem, data exploration, solution and summary\n",
    "\n",
    "To include - data reproductible script and report (If using Notebooks - NoteBook and data)\n",
    "\n",
    "Do not forget about maarketing component\n",
    "\n",
    "draft version 10.12 \n",
    "\n",
    "final version 12.12 \n"
   ]
  },
  {
   "cell_type": "code",
   "execution_count": null,
   "metadata": {},
   "outputs": [],
   "source": []
  }
 ],
 "metadata": {
  "language_info": {
   "name": "python"
  },
  "orig_nbformat": 4
 },
 "nbformat": 4,
 "nbformat_minor": 2
}
